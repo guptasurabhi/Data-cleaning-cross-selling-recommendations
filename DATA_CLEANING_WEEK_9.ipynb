{
  "nbformat": 4,
  "nbformat_minor": 0,
  "metadata": {
    "colab": {
      "name": "DATA CLEANING WEEK 9.ipynb",
      "provenance": [],
      "collapsed_sections": [],
      "authorship_tag": "ABX9TyNeIm3W+OUjd/S9tMU6LQ2M",
      "include_colab_link": true
    },
    "kernelspec": {
      "name": "python3",
      "display_name": "Python 3"
    },
    "language_info": {
      "name": "python"
    }
  },
  "cells": [
    {
      "cell_type": "markdown",
      "metadata": {
        "id": "view-in-github",
        "colab_type": "text"
      },
      "source": [
        "<a href=\"https://colab.research.google.com/github/guptasurabhi/Data-cleaning-cross-selling-recommendations/blob/main/DATA_CLEANING_WEEK_9.ipynb\" target=\"_parent\"><img src=\"https://colab.research.google.com/assets/colab-badge.svg\" alt=\"Open In Colab\"/></a>"
      ]
    },
    {
      "cell_type": "code",
      "execution_count": 2,
      "metadata": {
        "colab": {
          "resources": {
            "http://localhost:8080/nbextensions/google.colab/files.js": {
              "data": "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",
              "ok": true,
              "headers": [
                [
                  "content-type",
                  "application/javascript"
                ]
              ],
              "status": 200,
              "status_text": ""
            }
          },
          "base_uri": "https://localhost:8080/",
          "height": 73
        },
        "id": "ZdMFgwFlMbIe",
        "outputId": "38c9209d-c209-4994-99ff-0dd3a284e13f"
      },
      "outputs": [
        {
          "output_type": "display_data",
          "data": {
            "text/plain": [
              "<IPython.core.display.HTML object>"
            ],
            "text/html": [
              "\n",
              "     <input type=\"file\" id=\"files-3f2c1faf-60f9-483c-b90b-ab38152eb2b8\" name=\"files[]\" multiple disabled\n",
              "        style=\"border:none\" />\n",
              "     <output id=\"result-3f2c1faf-60f9-483c-b90b-ab38152eb2b8\">\n",
              "      Upload widget is only available when the cell has been executed in the\n",
              "      current browser session. Please rerun this cell to enable.\n",
              "      </output>\n",
              "      <script src=\"/nbextensions/google.colab/files.js\"></script> "
            ]
          },
          "metadata": {}
        },
        {
          "output_type": "stream",
          "name": "stdout",
          "text": [
            "Saving train.csv to train.csv\n"
          ]
        }
      ],
      "source": [
        "from google.colab import files\n",
        "uploaded = files.upload()"
      ]
    },
    {
      "cell_type": "code",
      "source": [
        "import pandas as pd\n",
        "import matplotlib .pyplot as plt\n",
        "import seaborn as sns"
      ],
      "metadata": {
        "id": "Jvbx_uJIMk0C"
      },
      "execution_count": 5,
      "outputs": []
    },
    {
      "cell_type": "code",
      "source": [
        "df=pd.read_csv(r\"/content/train.csv\")"
      ],
      "metadata": {
        "colab": {
          "base_uri": "https://localhost:8080/"
        },
        "id": "0G-smg1QUv3n",
        "outputId": "f8555d59-9319-4988-8de8-1aa757612164"
      },
      "execution_count": 6,
      "outputs": [
        {
          "output_type": "stream",
          "name": "stderr",
          "text": [
            "/usr/local/lib/python3.7/dist-packages/IPython/core/interactiveshell.py:2882: DtypeWarning: Columns (15) have mixed types.Specify dtype option on import or set low_memory=False.\n",
            "  exec(code_obj, self.user_global_ns, self.user_ns)\n"
          ]
        }
      ]
    },
    {
      "cell_type": "code",
      "source": [
        "df.info()"
      ],
      "metadata": {
        "colab": {
          "base_uri": "https://localhost:8080/"
        },
        "id": "fovNgJuvU1CD",
        "outputId": "0ba9d3f6-05f9-4398-bbc7-e1ce5e6c65c8"
      },
      "execution_count": 7,
      "outputs": [
        {
          "output_type": "stream",
          "name": "stdout",
          "text": [
            "<class 'pandas.core.frame.DataFrame'>\n",
            "RangeIndex: 929615 entries, 0 to 929614\n",
            "Data columns (total 24 columns):\n",
            " #   Column                 Non-Null Count   Dtype  \n",
            "---  ------                 --------------   -----  \n",
            " 0   fecha_dato             929615 non-null  object \n",
            " 1   ncodpers               929615 non-null  int64  \n",
            " 2   ind_empleado           929615 non-null  object \n",
            " 3   pais_residencia        929615 non-null  object \n",
            " 4   sexo                   929610 non-null  object \n",
            " 5   age                    929615 non-null  int64  \n",
            " 6   fecha_alta             929615 non-null  object \n",
            " 7   ind_nuevo              929615 non-null  int64  \n",
            " 8   antiguedad             929615 non-null  int64  \n",
            " 9   indrel                 929615 non-null  int64  \n",
            " 10  ult_fec_cli_1t         1683 non-null    object \n",
            " 11  indrel_1mes            929592 non-null  float64\n",
            " 12  tiprel_1mes            929592 non-null  object \n",
            " 13  indresi                929615 non-null  object \n",
            " 14  indext                 929615 non-null  object \n",
            " 15  conyuemp               104 non-null     object \n",
            " 16  canal_entrada          927534 non-null  object \n",
            " 17  indfall                929615 non-null  object \n",
            " 18  tipodom                929615 non-null  int64  \n",
            " 19  cod_prov               925619 non-null  float64\n",
            " 20  nomprov                925619 non-null  object \n",
            " 21  ind_actividad_cliente  929615 non-null  int64  \n",
            " 22  renta                  929615 non-null  object \n",
            " 23  segmento               927367 non-null  object \n",
            "dtypes: float64(2), int64(7), object(15)\n",
            "memory usage: 170.2+ MB\n"
          ]
        }
      ]
    },
    {
      "cell_type": "code",
      "source": [
        "df.shape"
      ],
      "metadata": {
        "colab": {
          "base_uri": "https://localhost:8080/"
        },
        "id": "NlYkxJYFU50N",
        "outputId": "cdd84629-6f28-4e79-d757-92f6bca5e927"
      },
      "execution_count": 8,
      "outputs": [
        {
          "output_type": "execute_result",
          "data": {
            "text/plain": [
              "(929615, 24)"
            ]
          },
          "metadata": {},
          "execution_count": 8
        }
      ]
    },
    {
      "cell_type": "code",
      "source": [
        "df.head()"
      ],
      "metadata": {
        "colab": {
          "base_uri": "https://localhost:8080/",
          "height": 369
        },
        "id": "rH4pzEi4VEWk",
        "outputId": "7c290fde-261c-4b68-826c-05f45c9e5506"
      },
      "execution_count": 9,
      "outputs": [
        {
          "output_type": "execute_result",
          "data": {
            "text/plain": [
              "   fecha_dato  ncodpers ind_empleado pais_residencia sexo  age  fecha_alta  \\\n",
              "0  28-06-2016     15889            F              ES    V   56  16-01-1995   \n",
              "1  28-06-2016   1170544            N              ES    H   36  28-08-2013   \n",
              "2  28-06-2016   1170545            N              ES    V   22  28-08-2013   \n",
              "3  28-06-2016   1170547            N              ES    H   22  28-08-2013   \n",
              "4  28-06-2016   1170548            N              ES    H   22  28-08-2013   \n",
              "\n",
              "   ind_nuevo  antiguedad  indrel  ... indext  conyuemp canal_entrada indfall  \\\n",
              "0          0         256       1  ...      N         N           KAT       N   \n",
              "1          0          34       1  ...      N       NaN           KAT       N   \n",
              "2          0          34       1  ...      N       NaN           KHE       N   \n",
              "3          0          34       1  ...      N       NaN           KHE       N   \n",
              "4          0          34       1  ...      N       NaN           KHE       N   \n",
              "\n",
              "  tipodom cod_prov         nomprov ind_actividad_cliente        renta  \\\n",
              "0       1     28.0          MADRID                     1     326124.9   \n",
              "1       1      3.0        ALICANTE                     0           NA   \n",
              "2       1     15.0       CORUÑA, A                     1           NA   \n",
              "3       1      8.0       BARCELONA                     0    148402.98   \n",
              "4       1      7.0  BALEARS, ILLES                     0     106885.8   \n",
              "\n",
              "             segmento  \n",
              "0            01 - TOP  \n",
              "1   02 - PARTICULARES  \n",
              "2  03 - UNIVERSITARIO  \n",
              "3  03 - UNIVERSITARIO  \n",
              "4  03 - UNIVERSITARIO  \n",
              "\n",
              "[5 rows x 24 columns]"
            ],
            "text/html": [
              "\n",
              "  <div id=\"df-9421a94a-3cb8-4384-a327-20d94544744f\">\n",
              "    <div class=\"colab-df-container\">\n",
              "      <div>\n",
              "<style scoped>\n",
              "    .dataframe tbody tr th:only-of-type {\n",
              "        vertical-align: middle;\n",
              "    }\n",
              "\n",
              "    .dataframe tbody tr th {\n",
              "        vertical-align: top;\n",
              "    }\n",
              "\n",
              "    .dataframe thead th {\n",
              "        text-align: right;\n",
              "    }\n",
              "</style>\n",
              "<table border=\"1\" class=\"dataframe\">\n",
              "  <thead>\n",
              "    <tr style=\"text-align: right;\">\n",
              "      <th></th>\n",
              "      <th>fecha_dato</th>\n",
              "      <th>ncodpers</th>\n",
              "      <th>ind_empleado</th>\n",
              "      <th>pais_residencia</th>\n",
              "      <th>sexo</th>\n",
              "      <th>age</th>\n",
              "      <th>fecha_alta</th>\n",
              "      <th>ind_nuevo</th>\n",
              "      <th>antiguedad</th>\n",
              "      <th>indrel</th>\n",
              "      <th>...</th>\n",
              "      <th>indext</th>\n",
              "      <th>conyuemp</th>\n",
              "      <th>canal_entrada</th>\n",
              "      <th>indfall</th>\n",
              "      <th>tipodom</th>\n",
              "      <th>cod_prov</th>\n",
              "      <th>nomprov</th>\n",
              "      <th>ind_actividad_cliente</th>\n",
              "      <th>renta</th>\n",
              "      <th>segmento</th>\n",
              "    </tr>\n",
              "  </thead>\n",
              "  <tbody>\n",
              "    <tr>\n",
              "      <th>0</th>\n",
              "      <td>28-06-2016</td>\n",
              "      <td>15889</td>\n",
              "      <td>F</td>\n",
              "      <td>ES</td>\n",
              "      <td>V</td>\n",
              "      <td>56</td>\n",
              "      <td>16-01-1995</td>\n",
              "      <td>0</td>\n",
              "      <td>256</td>\n",
              "      <td>1</td>\n",
              "      <td>...</td>\n",
              "      <td>N</td>\n",
              "      <td>N</td>\n",
              "      <td>KAT</td>\n",
              "      <td>N</td>\n",
              "      <td>1</td>\n",
              "      <td>28.0</td>\n",
              "      <td>MADRID</td>\n",
              "      <td>1</td>\n",
              "      <td>326124.9</td>\n",
              "      <td>01 - TOP</td>\n",
              "    </tr>\n",
              "    <tr>\n",
              "      <th>1</th>\n",
              "      <td>28-06-2016</td>\n",
              "      <td>1170544</td>\n",
              "      <td>N</td>\n",
              "      <td>ES</td>\n",
              "      <td>H</td>\n",
              "      <td>36</td>\n",
              "      <td>28-08-2013</td>\n",
              "      <td>0</td>\n",
              "      <td>34</td>\n",
              "      <td>1</td>\n",
              "      <td>...</td>\n",
              "      <td>N</td>\n",
              "      <td>NaN</td>\n",
              "      <td>KAT</td>\n",
              "      <td>N</td>\n",
              "      <td>1</td>\n",
              "      <td>3.0</td>\n",
              "      <td>ALICANTE</td>\n",
              "      <td>0</td>\n",
              "      <td>NA</td>\n",
              "      <td>02 - PARTICULARES</td>\n",
              "    </tr>\n",
              "    <tr>\n",
              "      <th>2</th>\n",
              "      <td>28-06-2016</td>\n",
              "      <td>1170545</td>\n",
              "      <td>N</td>\n",
              "      <td>ES</td>\n",
              "      <td>V</td>\n",
              "      <td>22</td>\n",
              "      <td>28-08-2013</td>\n",
              "      <td>0</td>\n",
              "      <td>34</td>\n",
              "      <td>1</td>\n",
              "      <td>...</td>\n",
              "      <td>N</td>\n",
              "      <td>NaN</td>\n",
              "      <td>KHE</td>\n",
              "      <td>N</td>\n",
              "      <td>1</td>\n",
              "      <td>15.0</td>\n",
              "      <td>CORUÑA, A</td>\n",
              "      <td>1</td>\n",
              "      <td>NA</td>\n",
              "      <td>03 - UNIVERSITARIO</td>\n",
              "    </tr>\n",
              "    <tr>\n",
              "      <th>3</th>\n",
              "      <td>28-06-2016</td>\n",
              "      <td>1170547</td>\n",
              "      <td>N</td>\n",
              "      <td>ES</td>\n",
              "      <td>H</td>\n",
              "      <td>22</td>\n",
              "      <td>28-08-2013</td>\n",
              "      <td>0</td>\n",
              "      <td>34</td>\n",
              "      <td>1</td>\n",
              "      <td>...</td>\n",
              "      <td>N</td>\n",
              "      <td>NaN</td>\n",
              "      <td>KHE</td>\n",
              "      <td>N</td>\n",
              "      <td>1</td>\n",
              "      <td>8.0</td>\n",
              "      <td>BARCELONA</td>\n",
              "      <td>0</td>\n",
              "      <td>148402.98</td>\n",
              "      <td>03 - UNIVERSITARIO</td>\n",
              "    </tr>\n",
              "    <tr>\n",
              "      <th>4</th>\n",
              "      <td>28-06-2016</td>\n",
              "      <td>1170548</td>\n",
              "      <td>N</td>\n",
              "      <td>ES</td>\n",
              "      <td>H</td>\n",
              "      <td>22</td>\n",
              "      <td>28-08-2013</td>\n",
              "      <td>0</td>\n",
              "      <td>34</td>\n",
              "      <td>1</td>\n",
              "      <td>...</td>\n",
              "      <td>N</td>\n",
              "      <td>NaN</td>\n",
              "      <td>KHE</td>\n",
              "      <td>N</td>\n",
              "      <td>1</td>\n",
              "      <td>7.0</td>\n",
              "      <td>BALEARS, ILLES</td>\n",
              "      <td>0</td>\n",
              "      <td>106885.8</td>\n",
              "      <td>03 - UNIVERSITARIO</td>\n",
              "    </tr>\n",
              "  </tbody>\n",
              "</table>\n",
              "<p>5 rows × 24 columns</p>\n",
              "</div>\n",
              "      <button class=\"colab-df-convert\" onclick=\"convertToInteractive('df-9421a94a-3cb8-4384-a327-20d94544744f')\"\n",
              "              title=\"Convert this dataframe to an interactive table.\"\n",
              "              style=\"display:none;\">\n",
              "        \n",
              "  <svg xmlns=\"http://www.w3.org/2000/svg\" height=\"24px\"viewBox=\"0 0 24 24\"\n",
              "       width=\"24px\">\n",
              "    <path d=\"M0 0h24v24H0V0z\" fill=\"none\"/>\n",
              "    <path d=\"M18.56 5.44l.94 2.06.94-2.06 2.06-.94-2.06-.94-.94-2.06-.94 2.06-2.06.94zm-11 1L8.5 8.5l.94-2.06 2.06-.94-2.06-.94L8.5 2.5l-.94 2.06-2.06.94zm10 10l.94 2.06.94-2.06 2.06-.94-2.06-.94-.94-2.06-.94 2.06-2.06.94z\"/><path d=\"M17.41 7.96l-1.37-1.37c-.4-.4-.92-.59-1.43-.59-.52 0-1.04.2-1.43.59L10.3 9.45l-7.72 7.72c-.78.78-.78 2.05 0 2.83L4 21.41c.39.39.9.59 1.41.59.51 0 1.02-.2 1.41-.59l7.78-7.78 2.81-2.81c.8-.78.8-2.07 0-2.86zM5.41 20L4 18.59l7.72-7.72 1.47 1.35L5.41 20z\"/>\n",
              "  </svg>\n",
              "      </button>\n",
              "      \n",
              "  <style>\n",
              "    .colab-df-container {\n",
              "      display:flex;\n",
              "      flex-wrap:wrap;\n",
              "      gap: 12px;\n",
              "    }\n",
              "\n",
              "    .colab-df-convert {\n",
              "      background-color: #E8F0FE;\n",
              "      border: none;\n",
              "      border-radius: 50%;\n",
              "      cursor: pointer;\n",
              "      display: none;\n",
              "      fill: #1967D2;\n",
              "      height: 32px;\n",
              "      padding: 0 0 0 0;\n",
              "      width: 32px;\n",
              "    }\n",
              "\n",
              "    .colab-df-convert:hover {\n",
              "      background-color: #E2EBFA;\n",
              "      box-shadow: 0px 1px 2px rgba(60, 64, 67, 0.3), 0px 1px 3px 1px rgba(60, 64, 67, 0.15);\n",
              "      fill: #174EA6;\n",
              "    }\n",
              "\n",
              "    [theme=dark] .colab-df-convert {\n",
              "      background-color: #3B4455;\n",
              "      fill: #D2E3FC;\n",
              "    }\n",
              "\n",
              "    [theme=dark] .colab-df-convert:hover {\n",
              "      background-color: #434B5C;\n",
              "      box-shadow: 0px 1px 3px 1px rgba(0, 0, 0, 0.15);\n",
              "      filter: drop-shadow(0px 1px 2px rgba(0, 0, 0, 0.3));\n",
              "      fill: #FFFFFF;\n",
              "    }\n",
              "  </style>\n",
              "\n",
              "      <script>\n",
              "        const buttonEl =\n",
              "          document.querySelector('#df-9421a94a-3cb8-4384-a327-20d94544744f button.colab-df-convert');\n",
              "        buttonEl.style.display =\n",
              "          google.colab.kernel.accessAllowed ? 'block' : 'none';\n",
              "\n",
              "        async function convertToInteractive(key) {\n",
              "          const element = document.querySelector('#df-9421a94a-3cb8-4384-a327-20d94544744f');\n",
              "          const dataTable =\n",
              "            await google.colab.kernel.invokeFunction('convertToInteractive',\n",
              "                                                     [key], {});\n",
              "          if (!dataTable) return;\n",
              "\n",
              "          const docLinkHtml = 'Like what you see? Visit the ' +\n",
              "            '<a target=\"_blank\" href=https://colab.research.google.com/notebooks/data_table.ipynb>data table notebook</a>'\n",
              "            + ' to learn more about interactive tables.';\n",
              "          element.innerHTML = '';\n",
              "          dataTable['output_type'] = 'display_data';\n",
              "          await google.colab.output.renderOutput(dataTable, element);\n",
              "          const docLink = document.createElement('div');\n",
              "          docLink.innerHTML = docLinkHtml;\n",
              "          element.appendChild(docLink);\n",
              "        }\n",
              "      </script>\n",
              "    </div>\n",
              "  </div>\n",
              "  "
            ]
          },
          "metadata": {},
          "execution_count": 9
        }
      ]
    },
    {
      "cell_type": "code",
      "source": [
        "df.columns"
      ],
      "metadata": {
        "colab": {
          "base_uri": "https://localhost:8080/"
        },
        "id": "LMDTZ9JTVJam",
        "outputId": "befe05da-3856-4ca7-eb92-d89b6e80fbce"
      },
      "execution_count": 10,
      "outputs": [
        {
          "output_type": "execute_result",
          "data": {
            "text/plain": [
              "Index(['fecha_dato', 'ncodpers', 'ind_empleado', 'pais_residencia', 'sexo',\n",
              "       'age', 'fecha_alta', 'ind_nuevo', 'antiguedad', 'indrel',\n",
              "       'ult_fec_cli_1t', 'indrel_1mes', 'tiprel_1mes', 'indresi', 'indext',\n",
              "       'conyuemp', 'canal_entrada', 'indfall', 'tipodom', 'cod_prov',\n",
              "       'nomprov', 'ind_actividad_cliente', 'renta', 'segmento'],\n",
              "      dtype='object')"
            ]
          },
          "metadata": {},
          "execution_count": 10
        }
      ]
    },
    {
      "cell_type": "code",
      "source": [
        "df_new=df.columns.str.upper()"
      ],
      "metadata": {
        "id": "P7Gze9ieVOMf"
      },
      "execution_count": 11,
      "outputs": []
    },
    {
      "cell_type": "code",
      "source": [
        "df_new"
      ],
      "metadata": {
        "colab": {
          "base_uri": "https://localhost:8080/"
        },
        "id": "_4SA8ji5Vawp",
        "outputId": "9166f602-0c73-4242-e423-b226cd1daa6d"
      },
      "execution_count": 12,
      "outputs": [
        {
          "output_type": "execute_result",
          "data": {
            "text/plain": [
              "Index(['FECHA_DATO', 'NCODPERS', 'IND_EMPLEADO', 'PAIS_RESIDENCIA', 'SEXO',\n",
              "       'AGE', 'FECHA_ALTA', 'IND_NUEVO', 'ANTIGUEDAD', 'INDREL',\n",
              "       'ULT_FEC_CLI_1T', 'INDREL_1MES', 'TIPREL_1MES', 'INDRESI', 'INDEXT',\n",
              "       'CONYUEMP', 'CANAL_ENTRADA', 'INDFALL', 'TIPODOM', 'COD_PROV',\n",
              "       'NOMPROV', 'IND_ACTIVIDAD_CLIENTE', 'RENTA', 'SEGMENTO'],\n",
              "      dtype='object')"
            ]
          },
          "metadata": {},
          "execution_count": 12
        }
      ]
    },
    {
      "cell_type": "code",
      "source": [
        "df.isnull().any().any()"
      ],
      "metadata": {
        "colab": {
          "base_uri": "https://localhost:8080/"
        },
        "id": "NbR9g2gWVkTE",
        "outputId": "d8e6670e-70f3-4612-d4a4-d09574b3c05e"
      },
      "execution_count": 13,
      "outputs": [
        {
          "output_type": "execute_result",
          "data": {
            "text/plain": [
              "True"
            ]
          },
          "metadata": {},
          "execution_count": 13
        }
      ]
    },
    {
      "cell_type": "code",
      "source": [
        "df.isnull().any()"
      ],
      "metadata": {
        "colab": {
          "base_uri": "https://localhost:8080/"
        },
        "id": "2jvZEvL0Vzor",
        "outputId": "b3e1d7a5-a52b-4a8d-cc89-cb4b0d1db542"
      },
      "execution_count": 52,
      "outputs": [
        {
          "output_type": "execute_result",
          "data": {
            "text/plain": [
              "fecha_dato               False\n",
              "ncodpers                 False\n",
              "ind_empleado             False\n",
              "pais_residencia          False\n",
              "sexo                      True\n",
              "age                      False\n",
              "fecha_alta               False\n",
              "ind_nuevo                False\n",
              "antiguedad               False\n",
              "indrel                   False\n",
              "ult_fec_cli_1t            True\n",
              "indrel_1mes               True\n",
              "tiprel_1mes               True\n",
              "indresi                  False\n",
              "indext                   False\n",
              "conyuemp                  True\n",
              "canal_entrada             True\n",
              "indfall                  False\n",
              "tipodom                  False\n",
              "cod_prov                  True\n",
              "nomprov                   True\n",
              "ind_actividad_cliente    False\n",
              "renta                    False\n",
              "segmento                  True\n",
              "dtype: bool"
            ]
          },
          "metadata": {},
          "execution_count": 52
        }
      ]
    },
    {
      "cell_type": "code",
      "source": [
        "df.isnull().sum()"
      ],
      "metadata": {
        "colab": {
          "base_uri": "https://localhost:8080/"
        },
        "id": "lPQMn1tDV1_8",
        "outputId": "0eafaa5b-d7d8-4dc3-ec5f-50e273bcb284"
      },
      "execution_count": 15,
      "outputs": [
        {
          "output_type": "execute_result",
          "data": {
            "text/plain": [
              "fecha_dato                    0\n",
              "ncodpers                      0\n",
              "ind_empleado                  0\n",
              "pais_residencia               0\n",
              "sexo                          5\n",
              "age                           0\n",
              "fecha_alta                    0\n",
              "ind_nuevo                     0\n",
              "antiguedad                    0\n",
              "indrel                        0\n",
              "ult_fec_cli_1t           927932\n",
              "indrel_1mes                  23\n",
              "tiprel_1mes                  23\n",
              "indresi                       0\n",
              "indext                        0\n",
              "conyuemp                 929511\n",
              "canal_entrada              2081\n",
              "indfall                       0\n",
              "tipodom                       0\n",
              "cod_prov                   3996\n",
              "nomprov                    3996\n",
              "ind_actividad_cliente         0\n",
              "renta                         0\n",
              "segmento                   2248\n",
              "dtype: int64"
            ]
          },
          "metadata": {},
          "execution_count": 15
        }
      ]
    },
    {
      "cell_type": "code",
      "source": [
        "df_zero=df.fillna(0)"
      ],
      "metadata": {
        "id": "Pet11YTwV69r"
      },
      "execution_count": 16,
      "outputs": []
    },
    {
      "cell_type": "code",
      "source": [
        "df_zero"
      ],
      "metadata": {
        "colab": {
          "base_uri": "https://localhost:8080/",
          "height": 627
        },
        "id": "1Q-c9HChWCGR",
        "outputId": "0cec2e39-23b9-459e-ad82-f40a37ea3a10"
      },
      "execution_count": 17,
      "outputs": [
        {
          "output_type": "execute_result",
          "data": {
            "text/plain": [
              "        fecha_dato  ncodpers ind_empleado pais_residencia sexo  age  \\\n",
              "0       28-06-2016     15889            F              ES    V   56   \n",
              "1       28-06-2016   1170544            N              ES    H   36   \n",
              "2       28-06-2016   1170545            N              ES    V   22   \n",
              "3       28-06-2016   1170547            N              ES    H   22   \n",
              "4       28-06-2016   1170548            N              ES    H   22   \n",
              "...            ...       ...          ...             ...  ...  ...   \n",
              "929610  28-06-2016    660237            N              ES    V   55   \n",
              "929611  28-06-2016    660238            N              ES    V   30   \n",
              "929612  28-06-2016    660240            N              ES    V   52   \n",
              "929613  28-06-2016    660243            N              ES    V   32   \n",
              "929614  28-06-2016    660248            N              ES    V   92   \n",
              "\n",
              "        fecha_alta  ind_nuevo  antiguedad  indrel  ... indext  conyuemp  \\\n",
              "0       16-01-1995          0         256       1  ...      N         N   \n",
              "1       28-08-2013          0          34       1  ...      N         0   \n",
              "2       28-08-2013          0          34       1  ...      N         0   \n",
              "3       28-08-2013          0          34       1  ...      N         0   \n",
              "4       28-08-2013          0          34       1  ...      N         0   \n",
              "...            ...        ...         ...     ...  ...    ...       ...   \n",
              "929610  21-04-1999          0         206       1  ...      N         0   \n",
              "929611  29-11-2006          0         115       1  ...      N         0   \n",
              "929612  29-11-2006          0         115       1  ...      N         0   \n",
              "929613  29-11-2006          0         115       1  ...      N         0   \n",
              "929614  29-11-2006          0         115       1  ...      N         0   \n",
              "\n",
              "       canal_entrada indfall tipodom cod_prov         nomprov  \\\n",
              "0                KAT       N       1     28.0          MADRID   \n",
              "1                KAT       N       1      3.0        ALICANTE   \n",
              "2                KHE       N       1     15.0       CORUÑA, A   \n",
              "3                KHE       N       1      8.0       BARCELONA   \n",
              "4                KHE       N       1      7.0  BALEARS, ILLES   \n",
              "...              ...     ...     ...      ...             ...   \n",
              "929610           KAT       N       1     28.0          MADRID   \n",
              "929611           KFC       N       1     26.0       RIOJA, LA   \n",
              "929612           KBZ       N       1     33.0        ASTURIAS   \n",
              "929613           KFC       N       1     33.0        ASTURIAS   \n",
              "929614           KAT       N       1     45.0          TOLEDO   \n",
              "\n",
              "       ind_actividad_cliente        renta            segmento  \n",
              "0                          1     326124.9            01 - TOP  \n",
              "1                          0           NA   02 - PARTICULARES  \n",
              "2                          1           NA  03 - UNIVERSITARIO  \n",
              "3                          0    148402.98  03 - UNIVERSITARIO  \n",
              "4                          0     106885.8  03 - UNIVERSITARIO  \n",
              "...                      ...          ...                 ...  \n",
              "929610                     1    128643.57            01 - TOP  \n",
              "929611                     0           NA   02 - PARTICULARES  \n",
              "929612                     1     72765.27   02 - PARTICULARES  \n",
              "929613                     0    147488.88   02 - PARTICULARES  \n",
              "929614                     0           NA   02 - PARTICULARES  \n",
              "\n",
              "[929615 rows x 24 columns]"
            ],
            "text/html": [
              "\n",
              "  <div id=\"df-320fe683-834c-4d5b-81e5-bb21e2371279\">\n",
              "    <div class=\"colab-df-container\">\n",
              "      <div>\n",
              "<style scoped>\n",
              "    .dataframe tbody tr th:only-of-type {\n",
              "        vertical-align: middle;\n",
              "    }\n",
              "\n",
              "    .dataframe tbody tr th {\n",
              "        vertical-align: top;\n",
              "    }\n",
              "\n",
              "    .dataframe thead th {\n",
              "        text-align: right;\n",
              "    }\n",
              "</style>\n",
              "<table border=\"1\" class=\"dataframe\">\n",
              "  <thead>\n",
              "    <tr style=\"text-align: right;\">\n",
              "      <th></th>\n",
              "      <th>fecha_dato</th>\n",
              "      <th>ncodpers</th>\n",
              "      <th>ind_empleado</th>\n",
              "      <th>pais_residencia</th>\n",
              "      <th>sexo</th>\n",
              "      <th>age</th>\n",
              "      <th>fecha_alta</th>\n",
              "      <th>ind_nuevo</th>\n",
              "      <th>antiguedad</th>\n",
              "      <th>indrel</th>\n",
              "      <th>...</th>\n",
              "      <th>indext</th>\n",
              "      <th>conyuemp</th>\n",
              "      <th>canal_entrada</th>\n",
              "      <th>indfall</th>\n",
              "      <th>tipodom</th>\n",
              "      <th>cod_prov</th>\n",
              "      <th>nomprov</th>\n",
              "      <th>ind_actividad_cliente</th>\n",
              "      <th>renta</th>\n",
              "      <th>segmento</th>\n",
              "    </tr>\n",
              "  </thead>\n",
              "  <tbody>\n",
              "    <tr>\n",
              "      <th>0</th>\n",
              "      <td>28-06-2016</td>\n",
              "      <td>15889</td>\n",
              "      <td>F</td>\n",
              "      <td>ES</td>\n",
              "      <td>V</td>\n",
              "      <td>56</td>\n",
              "      <td>16-01-1995</td>\n",
              "      <td>0</td>\n",
              "      <td>256</td>\n",
              "      <td>1</td>\n",
              "      <td>...</td>\n",
              "      <td>N</td>\n",
              "      <td>N</td>\n",
              "      <td>KAT</td>\n",
              "      <td>N</td>\n",
              "      <td>1</td>\n",
              "      <td>28.0</td>\n",
              "      <td>MADRID</td>\n",
              "      <td>1</td>\n",
              "      <td>326124.9</td>\n",
              "      <td>01 - TOP</td>\n",
              "    </tr>\n",
              "    <tr>\n",
              "      <th>1</th>\n",
              "      <td>28-06-2016</td>\n",
              "      <td>1170544</td>\n",
              "      <td>N</td>\n",
              "      <td>ES</td>\n",
              "      <td>H</td>\n",
              "      <td>36</td>\n",
              "      <td>28-08-2013</td>\n",
              "      <td>0</td>\n",
              "      <td>34</td>\n",
              "      <td>1</td>\n",
              "      <td>...</td>\n",
              "      <td>N</td>\n",
              "      <td>0</td>\n",
              "      <td>KAT</td>\n",
              "      <td>N</td>\n",
              "      <td>1</td>\n",
              "      <td>3.0</td>\n",
              "      <td>ALICANTE</td>\n",
              "      <td>0</td>\n",
              "      <td>NA</td>\n",
              "      <td>02 - PARTICULARES</td>\n",
              "    </tr>\n",
              "    <tr>\n",
              "      <th>2</th>\n",
              "      <td>28-06-2016</td>\n",
              "      <td>1170545</td>\n",
              "      <td>N</td>\n",
              "      <td>ES</td>\n",
              "      <td>V</td>\n",
              "      <td>22</td>\n",
              "      <td>28-08-2013</td>\n",
              "      <td>0</td>\n",
              "      <td>34</td>\n",
              "      <td>1</td>\n",
              "      <td>...</td>\n",
              "      <td>N</td>\n",
              "      <td>0</td>\n",
              "      <td>KHE</td>\n",
              "      <td>N</td>\n",
              "      <td>1</td>\n",
              "      <td>15.0</td>\n",
              "      <td>CORUÑA, A</td>\n",
              "      <td>1</td>\n",
              "      <td>NA</td>\n",
              "      <td>03 - UNIVERSITARIO</td>\n",
              "    </tr>\n",
              "    <tr>\n",
              "      <th>3</th>\n",
              "      <td>28-06-2016</td>\n",
              "      <td>1170547</td>\n",
              "      <td>N</td>\n",
              "      <td>ES</td>\n",
              "      <td>H</td>\n",
              "      <td>22</td>\n",
              "      <td>28-08-2013</td>\n",
              "      <td>0</td>\n",
              "      <td>34</td>\n",
              "      <td>1</td>\n",
              "      <td>...</td>\n",
              "      <td>N</td>\n",
              "      <td>0</td>\n",
              "      <td>KHE</td>\n",
              "      <td>N</td>\n",
              "      <td>1</td>\n",
              "      <td>8.0</td>\n",
              "      <td>BARCELONA</td>\n",
              "      <td>0</td>\n",
              "      <td>148402.98</td>\n",
              "      <td>03 - UNIVERSITARIO</td>\n",
              "    </tr>\n",
              "    <tr>\n",
              "      <th>4</th>\n",
              "      <td>28-06-2016</td>\n",
              "      <td>1170548</td>\n",
              "      <td>N</td>\n",
              "      <td>ES</td>\n",
              "      <td>H</td>\n",
              "      <td>22</td>\n",
              "      <td>28-08-2013</td>\n",
              "      <td>0</td>\n",
              "      <td>34</td>\n",
              "      <td>1</td>\n",
              "      <td>...</td>\n",
              "      <td>N</td>\n",
              "      <td>0</td>\n",
              "      <td>KHE</td>\n",
              "      <td>N</td>\n",
              "      <td>1</td>\n",
              "      <td>7.0</td>\n",
              "      <td>BALEARS, ILLES</td>\n",
              "      <td>0</td>\n",
              "      <td>106885.8</td>\n",
              "      <td>03 - UNIVERSITARIO</td>\n",
              "    </tr>\n",
              "    <tr>\n",
              "      <th>...</th>\n",
              "      <td>...</td>\n",
              "      <td>...</td>\n",
              "      <td>...</td>\n",
              "      <td>...</td>\n",
              "      <td>...</td>\n",
              "      <td>...</td>\n",
              "      <td>...</td>\n",
              "      <td>...</td>\n",
              "      <td>...</td>\n",
              "      <td>...</td>\n",
              "      <td>...</td>\n",
              "      <td>...</td>\n",
              "      <td>...</td>\n",
              "      <td>...</td>\n",
              "      <td>...</td>\n",
              "      <td>...</td>\n",
              "      <td>...</td>\n",
              "      <td>...</td>\n",
              "      <td>...</td>\n",
              "      <td>...</td>\n",
              "      <td>...</td>\n",
              "    </tr>\n",
              "    <tr>\n",
              "      <th>929610</th>\n",
              "      <td>28-06-2016</td>\n",
              "      <td>660237</td>\n",
              "      <td>N</td>\n",
              "      <td>ES</td>\n",
              "      <td>V</td>\n",
              "      <td>55</td>\n",
              "      <td>21-04-1999</td>\n",
              "      <td>0</td>\n",
              "      <td>206</td>\n",
              "      <td>1</td>\n",
              "      <td>...</td>\n",
              "      <td>N</td>\n",
              "      <td>0</td>\n",
              "      <td>KAT</td>\n",
              "      <td>N</td>\n",
              "      <td>1</td>\n",
              "      <td>28.0</td>\n",
              "      <td>MADRID</td>\n",
              "      <td>1</td>\n",
              "      <td>128643.57</td>\n",
              "      <td>01 - TOP</td>\n",
              "    </tr>\n",
              "    <tr>\n",
              "      <th>929611</th>\n",
              "      <td>28-06-2016</td>\n",
              "      <td>660238</td>\n",
              "      <td>N</td>\n",
              "      <td>ES</td>\n",
              "      <td>V</td>\n",
              "      <td>30</td>\n",
              "      <td>29-11-2006</td>\n",
              "      <td>0</td>\n",
              "      <td>115</td>\n",
              "      <td>1</td>\n",
              "      <td>...</td>\n",
              "      <td>N</td>\n",
              "      <td>0</td>\n",
              "      <td>KFC</td>\n",
              "      <td>N</td>\n",
              "      <td>1</td>\n",
              "      <td>26.0</td>\n",
              "      <td>RIOJA, LA</td>\n",
              "      <td>0</td>\n",
              "      <td>NA</td>\n",
              "      <td>02 - PARTICULARES</td>\n",
              "    </tr>\n",
              "    <tr>\n",
              "      <th>929612</th>\n",
              "      <td>28-06-2016</td>\n",
              "      <td>660240</td>\n",
              "      <td>N</td>\n",
              "      <td>ES</td>\n",
              "      <td>V</td>\n",
              "      <td>52</td>\n",
              "      <td>29-11-2006</td>\n",
              "      <td>0</td>\n",
              "      <td>115</td>\n",
              "      <td>1</td>\n",
              "      <td>...</td>\n",
              "      <td>N</td>\n",
              "      <td>0</td>\n",
              "      <td>KBZ</td>\n",
              "      <td>N</td>\n",
              "      <td>1</td>\n",
              "      <td>33.0</td>\n",
              "      <td>ASTURIAS</td>\n",
              "      <td>1</td>\n",
              "      <td>72765.27</td>\n",
              "      <td>02 - PARTICULARES</td>\n",
              "    </tr>\n",
              "    <tr>\n",
              "      <th>929613</th>\n",
              "      <td>28-06-2016</td>\n",
              "      <td>660243</td>\n",
              "      <td>N</td>\n",
              "      <td>ES</td>\n",
              "      <td>V</td>\n",
              "      <td>32</td>\n",
              "      <td>29-11-2006</td>\n",
              "      <td>0</td>\n",
              "      <td>115</td>\n",
              "      <td>1</td>\n",
              "      <td>...</td>\n",
              "      <td>N</td>\n",
              "      <td>0</td>\n",
              "      <td>KFC</td>\n",
              "      <td>N</td>\n",
              "      <td>1</td>\n",
              "      <td>33.0</td>\n",
              "      <td>ASTURIAS</td>\n",
              "      <td>0</td>\n",
              "      <td>147488.88</td>\n",
              "      <td>02 - PARTICULARES</td>\n",
              "    </tr>\n",
              "    <tr>\n",
              "      <th>929614</th>\n",
              "      <td>28-06-2016</td>\n",
              "      <td>660248</td>\n",
              "      <td>N</td>\n",
              "      <td>ES</td>\n",
              "      <td>V</td>\n",
              "      <td>92</td>\n",
              "      <td>29-11-2006</td>\n",
              "      <td>0</td>\n",
              "      <td>115</td>\n",
              "      <td>1</td>\n",
              "      <td>...</td>\n",
              "      <td>N</td>\n",
              "      <td>0</td>\n",
              "      <td>KAT</td>\n",
              "      <td>N</td>\n",
              "      <td>1</td>\n",
              "      <td>45.0</td>\n",
              "      <td>TOLEDO</td>\n",
              "      <td>0</td>\n",
              "      <td>NA</td>\n",
              "      <td>02 - PARTICULARES</td>\n",
              "    </tr>\n",
              "  </tbody>\n",
              "</table>\n",
              "<p>929615 rows × 24 columns</p>\n",
              "</div>\n",
              "      <button class=\"colab-df-convert\" onclick=\"convertToInteractive('df-320fe683-834c-4d5b-81e5-bb21e2371279')\"\n",
              "              title=\"Convert this dataframe to an interactive table.\"\n",
              "              style=\"display:none;\">\n",
              "        \n",
              "  <svg xmlns=\"http://www.w3.org/2000/svg\" height=\"24px\"viewBox=\"0 0 24 24\"\n",
              "       width=\"24px\">\n",
              "    <path d=\"M0 0h24v24H0V0z\" fill=\"none\"/>\n",
              "    <path d=\"M18.56 5.44l.94 2.06.94-2.06 2.06-.94-2.06-.94-.94-2.06-.94 2.06-2.06.94zm-11 1L8.5 8.5l.94-2.06 2.06-.94-2.06-.94L8.5 2.5l-.94 2.06-2.06.94zm10 10l.94 2.06.94-2.06 2.06-.94-2.06-.94-.94-2.06-.94 2.06-2.06.94z\"/><path d=\"M17.41 7.96l-1.37-1.37c-.4-.4-.92-.59-1.43-.59-.52 0-1.04.2-1.43.59L10.3 9.45l-7.72 7.72c-.78.78-.78 2.05 0 2.83L4 21.41c.39.39.9.59 1.41.59.51 0 1.02-.2 1.41-.59l7.78-7.78 2.81-2.81c.8-.78.8-2.07 0-2.86zM5.41 20L4 18.59l7.72-7.72 1.47 1.35L5.41 20z\"/>\n",
              "  </svg>\n",
              "      </button>\n",
              "      \n",
              "  <style>\n",
              "    .colab-df-container {\n",
              "      display:flex;\n",
              "      flex-wrap:wrap;\n",
              "      gap: 12px;\n",
              "    }\n",
              "\n",
              "    .colab-df-convert {\n",
              "      background-color: #E8F0FE;\n",
              "      border: none;\n",
              "      border-radius: 50%;\n",
              "      cursor: pointer;\n",
              "      display: none;\n",
              "      fill: #1967D2;\n",
              "      height: 32px;\n",
              "      padding: 0 0 0 0;\n",
              "      width: 32px;\n",
              "    }\n",
              "\n",
              "    .colab-df-convert:hover {\n",
              "      background-color: #E2EBFA;\n",
              "      box-shadow: 0px 1px 2px rgba(60, 64, 67, 0.3), 0px 1px 3px 1px rgba(60, 64, 67, 0.15);\n",
              "      fill: #174EA6;\n",
              "    }\n",
              "\n",
              "    [theme=dark] .colab-df-convert {\n",
              "      background-color: #3B4455;\n",
              "      fill: #D2E3FC;\n",
              "    }\n",
              "\n",
              "    [theme=dark] .colab-df-convert:hover {\n",
              "      background-color: #434B5C;\n",
              "      box-shadow: 0px 1px 3px 1px rgba(0, 0, 0, 0.15);\n",
              "      filter: drop-shadow(0px 1px 2px rgba(0, 0, 0, 0.3));\n",
              "      fill: #FFFFFF;\n",
              "    }\n",
              "  </style>\n",
              "\n",
              "      <script>\n",
              "        const buttonEl =\n",
              "          document.querySelector('#df-320fe683-834c-4d5b-81e5-bb21e2371279 button.colab-df-convert');\n",
              "        buttonEl.style.display =\n",
              "          google.colab.kernel.accessAllowed ? 'block' : 'none';\n",
              "\n",
              "        async function convertToInteractive(key) {\n",
              "          const element = document.querySelector('#df-320fe683-834c-4d5b-81e5-bb21e2371279');\n",
              "          const dataTable =\n",
              "            await google.colab.kernel.invokeFunction('convertToInteractive',\n",
              "                                                     [key], {});\n",
              "          if (!dataTable) return;\n",
              "\n",
              "          const docLinkHtml = 'Like what you see? Visit the ' +\n",
              "            '<a target=\"_blank\" href=https://colab.research.google.com/notebooks/data_table.ipynb>data table notebook</a>'\n",
              "            + ' to learn more about interactive tables.';\n",
              "          element.innerHTML = '';\n",
              "          dataTable['output_type'] = 'display_data';\n",
              "          await google.colab.output.renderOutput(dataTable, element);\n",
              "          const docLink = document.createElement('div');\n",
              "          docLink.innerHTML = docLinkHtml;\n",
              "          element.appendChild(docLink);\n",
              "        }\n",
              "      </script>\n",
              "    </div>\n",
              "  </div>\n",
              "  "
            ]
          },
          "metadata": {},
          "execution_count": 17
        }
      ]
    },
    {
      "cell_type": "code",
      "source": [
        "df.describe()"
      ],
      "metadata": {
        "colab": {
          "base_uri": "https://localhost:8080/",
          "height": 364
        },
        "id": "cMh9ssbJWE81",
        "outputId": "ea26f268-1fd2-4f93-ec3e-8fea4844cc7d"
      },
      "execution_count": 18,
      "outputs": [
        {
          "output_type": "execute_result",
          "data": {
            "text/plain": [
              "           ncodpers            age      ind_nuevo     antiguedad  \\\n",
              "count  9.296150e+05  929615.000000  929615.000000  929615.000000   \n",
              "mean   8.794566e+05      40.249821       0.027849      77.728413   \n",
              "std    4.481569e+05      17.185119       0.164541    1797.824518   \n",
              "min    1.588900e+04       2.000000       0.000000 -999999.000000   \n",
              "25%    4.833615e+05      25.000000       0.000000      23.000000   \n",
              "50%    9.664250e+05      39.000000       0.000000      55.000000   \n",
              "75%    1.264316e+06      51.000000       0.000000     136.000000   \n",
              "max    1.553689e+06     164.000000       1.000000     257.000000   \n",
              "\n",
              "              indrel    indrel_1mes   tipodom       cod_prov  \\\n",
              "count  929615.000000  929592.000000  929615.0  925619.000000   \n",
              "mean        1.177422       1.000058       1.0      26.546150   \n",
              "std         4.166039       0.010779       0.0      12.836614   \n",
              "min         1.000000       1.000000       1.0       1.000000   \n",
              "25%         1.000000       1.000000       1.0      15.000000   \n",
              "50%         1.000000       1.000000       1.0      28.000000   \n",
              "75%         1.000000       1.000000       1.0      35.000000   \n",
              "max        99.000000       3.000000       1.0      52.000000   \n",
              "\n",
              "       ind_actividad_cliente  \n",
              "count          929615.000000  \n",
              "mean                0.425272  \n",
              "std                 0.494384  \n",
              "min                 0.000000  \n",
              "25%                 0.000000  \n",
              "50%                 0.000000  \n",
              "75%                 1.000000  \n",
              "max                 1.000000  "
            ],
            "text/html": [
              "\n",
              "  <div id=\"df-3e47fb34-efac-4243-b54b-ac068a7ef9f9\">\n",
              "    <div class=\"colab-df-container\">\n",
              "      <div>\n",
              "<style scoped>\n",
              "    .dataframe tbody tr th:only-of-type {\n",
              "        vertical-align: middle;\n",
              "    }\n",
              "\n",
              "    .dataframe tbody tr th {\n",
              "        vertical-align: top;\n",
              "    }\n",
              "\n",
              "    .dataframe thead th {\n",
              "        text-align: right;\n",
              "    }\n",
              "</style>\n",
              "<table border=\"1\" class=\"dataframe\">\n",
              "  <thead>\n",
              "    <tr style=\"text-align: right;\">\n",
              "      <th></th>\n",
              "      <th>ncodpers</th>\n",
              "      <th>age</th>\n",
              "      <th>ind_nuevo</th>\n",
              "      <th>antiguedad</th>\n",
              "      <th>indrel</th>\n",
              "      <th>indrel_1mes</th>\n",
              "      <th>tipodom</th>\n",
              "      <th>cod_prov</th>\n",
              "      <th>ind_actividad_cliente</th>\n",
              "    </tr>\n",
              "  </thead>\n",
              "  <tbody>\n",
              "    <tr>\n",
              "      <th>count</th>\n",
              "      <td>9.296150e+05</td>\n",
              "      <td>929615.000000</td>\n",
              "      <td>929615.000000</td>\n",
              "      <td>929615.000000</td>\n",
              "      <td>929615.000000</td>\n",
              "      <td>929592.000000</td>\n",
              "      <td>929615.0</td>\n",
              "      <td>925619.000000</td>\n",
              "      <td>929615.000000</td>\n",
              "    </tr>\n",
              "    <tr>\n",
              "      <th>mean</th>\n",
              "      <td>8.794566e+05</td>\n",
              "      <td>40.249821</td>\n",
              "      <td>0.027849</td>\n",
              "      <td>77.728413</td>\n",
              "      <td>1.177422</td>\n",
              "      <td>1.000058</td>\n",
              "      <td>1.0</td>\n",
              "      <td>26.546150</td>\n",
              "      <td>0.425272</td>\n",
              "    </tr>\n",
              "    <tr>\n",
              "      <th>std</th>\n",
              "      <td>4.481569e+05</td>\n",
              "      <td>17.185119</td>\n",
              "      <td>0.164541</td>\n",
              "      <td>1797.824518</td>\n",
              "      <td>4.166039</td>\n",
              "      <td>0.010779</td>\n",
              "      <td>0.0</td>\n",
              "      <td>12.836614</td>\n",
              "      <td>0.494384</td>\n",
              "    </tr>\n",
              "    <tr>\n",
              "      <th>min</th>\n",
              "      <td>1.588900e+04</td>\n",
              "      <td>2.000000</td>\n",
              "      <td>0.000000</td>\n",
              "      <td>-999999.000000</td>\n",
              "      <td>1.000000</td>\n",
              "      <td>1.000000</td>\n",
              "      <td>1.0</td>\n",
              "      <td>1.000000</td>\n",
              "      <td>0.000000</td>\n",
              "    </tr>\n",
              "    <tr>\n",
              "      <th>25%</th>\n",
              "      <td>4.833615e+05</td>\n",
              "      <td>25.000000</td>\n",
              "      <td>0.000000</td>\n",
              "      <td>23.000000</td>\n",
              "      <td>1.000000</td>\n",
              "      <td>1.000000</td>\n",
              "      <td>1.0</td>\n",
              "      <td>15.000000</td>\n",
              "      <td>0.000000</td>\n",
              "    </tr>\n",
              "    <tr>\n",
              "      <th>50%</th>\n",
              "      <td>9.664250e+05</td>\n",
              "      <td>39.000000</td>\n",
              "      <td>0.000000</td>\n",
              "      <td>55.000000</td>\n",
              "      <td>1.000000</td>\n",
              "      <td>1.000000</td>\n",
              "      <td>1.0</td>\n",
              "      <td>28.000000</td>\n",
              "      <td>0.000000</td>\n",
              "    </tr>\n",
              "    <tr>\n",
              "      <th>75%</th>\n",
              "      <td>1.264316e+06</td>\n",
              "      <td>51.000000</td>\n",
              "      <td>0.000000</td>\n",
              "      <td>136.000000</td>\n",
              "      <td>1.000000</td>\n",
              "      <td>1.000000</td>\n",
              "      <td>1.0</td>\n",
              "      <td>35.000000</td>\n",
              "      <td>1.000000</td>\n",
              "    </tr>\n",
              "    <tr>\n",
              "      <th>max</th>\n",
              "      <td>1.553689e+06</td>\n",
              "      <td>164.000000</td>\n",
              "      <td>1.000000</td>\n",
              "      <td>257.000000</td>\n",
              "      <td>99.000000</td>\n",
              "      <td>3.000000</td>\n",
              "      <td>1.0</td>\n",
              "      <td>52.000000</td>\n",
              "      <td>1.000000</td>\n",
              "    </tr>\n",
              "  </tbody>\n",
              "</table>\n",
              "</div>\n",
              "      <button class=\"colab-df-convert\" onclick=\"convertToInteractive('df-3e47fb34-efac-4243-b54b-ac068a7ef9f9')\"\n",
              "              title=\"Convert this dataframe to an interactive table.\"\n",
              "              style=\"display:none;\">\n",
              "        \n",
              "  <svg xmlns=\"http://www.w3.org/2000/svg\" height=\"24px\"viewBox=\"0 0 24 24\"\n",
              "       width=\"24px\">\n",
              "    <path d=\"M0 0h24v24H0V0z\" fill=\"none\"/>\n",
              "    <path d=\"M18.56 5.44l.94 2.06.94-2.06 2.06-.94-2.06-.94-.94-2.06-.94 2.06-2.06.94zm-11 1L8.5 8.5l.94-2.06 2.06-.94-2.06-.94L8.5 2.5l-.94 2.06-2.06.94zm10 10l.94 2.06.94-2.06 2.06-.94-2.06-.94-.94-2.06-.94 2.06-2.06.94z\"/><path d=\"M17.41 7.96l-1.37-1.37c-.4-.4-.92-.59-1.43-.59-.52 0-1.04.2-1.43.59L10.3 9.45l-7.72 7.72c-.78.78-.78 2.05 0 2.83L4 21.41c.39.39.9.59 1.41.59.51 0 1.02-.2 1.41-.59l7.78-7.78 2.81-2.81c.8-.78.8-2.07 0-2.86zM5.41 20L4 18.59l7.72-7.72 1.47 1.35L5.41 20z\"/>\n",
              "  </svg>\n",
              "      </button>\n",
              "      \n",
              "  <style>\n",
              "    .colab-df-container {\n",
              "      display:flex;\n",
              "      flex-wrap:wrap;\n",
              "      gap: 12px;\n",
              "    }\n",
              "\n",
              "    .colab-df-convert {\n",
              "      background-color: #E8F0FE;\n",
              "      border: none;\n",
              "      border-radius: 50%;\n",
              "      cursor: pointer;\n",
              "      display: none;\n",
              "      fill: #1967D2;\n",
              "      height: 32px;\n",
              "      padding: 0 0 0 0;\n",
              "      width: 32px;\n",
              "    }\n",
              "\n",
              "    .colab-df-convert:hover {\n",
              "      background-color: #E2EBFA;\n",
              "      box-shadow: 0px 1px 2px rgba(60, 64, 67, 0.3), 0px 1px 3px 1px rgba(60, 64, 67, 0.15);\n",
              "      fill: #174EA6;\n",
              "    }\n",
              "\n",
              "    [theme=dark] .colab-df-convert {\n",
              "      background-color: #3B4455;\n",
              "      fill: #D2E3FC;\n",
              "    }\n",
              "\n",
              "    [theme=dark] .colab-df-convert:hover {\n",
              "      background-color: #434B5C;\n",
              "      box-shadow: 0px 1px 3px 1px rgba(0, 0, 0, 0.15);\n",
              "      filter: drop-shadow(0px 1px 2px rgba(0, 0, 0, 0.3));\n",
              "      fill: #FFFFFF;\n",
              "    }\n",
              "  </style>\n",
              "\n",
              "      <script>\n",
              "        const buttonEl =\n",
              "          document.querySelector('#df-3e47fb34-efac-4243-b54b-ac068a7ef9f9 button.colab-df-convert');\n",
              "        buttonEl.style.display =\n",
              "          google.colab.kernel.accessAllowed ? 'block' : 'none';\n",
              "\n",
              "        async function convertToInteractive(key) {\n",
              "          const element = document.querySelector('#df-3e47fb34-efac-4243-b54b-ac068a7ef9f9');\n",
              "          const dataTable =\n",
              "            await google.colab.kernel.invokeFunction('convertToInteractive',\n",
              "                                                     [key], {});\n",
              "          if (!dataTable) return;\n",
              "\n",
              "          const docLinkHtml = 'Like what you see? Visit the ' +\n",
              "            '<a target=\"_blank\" href=https://colab.research.google.com/notebooks/data_table.ipynb>data table notebook</a>'\n",
              "            + ' to learn more about interactive tables.';\n",
              "          element.innerHTML = '';\n",
              "          dataTable['output_type'] = 'display_data';\n",
              "          await google.colab.output.renderOutput(dataTable, element);\n",
              "          const docLink = document.createElement('div');\n",
              "          docLink.innerHTML = docLinkHtml;\n",
              "          element.appendChild(docLink);\n",
              "        }\n",
              "      </script>\n",
              "    </div>\n",
              "  </div>\n",
              "  "
            ]
          },
          "metadata": {},
          "execution_count": 18
        }
      ]
    },
    {
      "cell_type": "code",
      "source": [
        "df.dtypes"
      ],
      "metadata": {
        "colab": {
          "base_uri": "https://localhost:8080/"
        },
        "id": "huwluQs_WVfY",
        "outputId": "de61e82c-3573-4f27-ad65-2426d204c9b7"
      },
      "execution_count": 19,
      "outputs": [
        {
          "output_type": "execute_result",
          "data": {
            "text/plain": [
              "fecha_dato                object\n",
              "ncodpers                   int64\n",
              "ind_empleado              object\n",
              "pais_residencia           object\n",
              "sexo                      object\n",
              "age                        int64\n",
              "fecha_alta                object\n",
              "ind_nuevo                  int64\n",
              "antiguedad                 int64\n",
              "indrel                     int64\n",
              "ult_fec_cli_1t            object\n",
              "indrel_1mes              float64\n",
              "tiprel_1mes               object\n",
              "indresi                   object\n",
              "indext                    object\n",
              "conyuemp                  object\n",
              "canal_entrada             object\n",
              "indfall                   object\n",
              "tipodom                    int64\n",
              "cod_prov                 float64\n",
              "nomprov                   object\n",
              "ind_actividad_cliente      int64\n",
              "renta                     object\n",
              "segmento                  object\n",
              "dtype: object"
            ]
          },
          "metadata": {},
          "execution_count": 19
        }
      ]
    },
    {
      "cell_type": "code",
      "source": [
        "df_category=df.astype({\"fecha_dato\":'category',\"ind_empleado\":'category',\"pais_residencia\":'category',\"sexo\":'category',\"fecha_alta\":'category',\"ult_fec_cli_1t\":'category',\"tiprel_1mes\":'category',\"indresi\":'category',\"indext\":'category',\"conyuemp\":'category',\"canal_entrada\":'category',\"indfall\":'category',\"nomprov\":'category',\"renta\":'category',\"segmento\":'category'})"
      ],
      "metadata": {
        "id": "tDVASCyyWZBB"
      },
      "execution_count": 20,
      "outputs": []
    },
    {
      "cell_type": "code",
      "source": [
        "df_category.dtypes"
      ],
      "metadata": {
        "colab": {
          "base_uri": "https://localhost:8080/"
        },
        "id": "R8GoBi5lW0Iz",
        "outputId": "797eb63d-822a-4705-b39f-37056f2a89a3"
      },
      "execution_count": 21,
      "outputs": [
        {
          "output_type": "execute_result",
          "data": {
            "text/plain": [
              "fecha_dato               category\n",
              "ncodpers                    int64\n",
              "ind_empleado             category\n",
              "pais_residencia          category\n",
              "sexo                     category\n",
              "age                         int64\n",
              "fecha_alta               category\n",
              "ind_nuevo                   int64\n",
              "antiguedad                  int64\n",
              "indrel                      int64\n",
              "ult_fec_cli_1t           category\n",
              "indrel_1mes               float64\n",
              "tiprel_1mes              category\n",
              "indresi                  category\n",
              "indext                   category\n",
              "conyuemp                 category\n",
              "canal_entrada            category\n",
              "indfall                  category\n",
              "tipodom                     int64\n",
              "cod_prov                  float64\n",
              "nomprov                  category\n",
              "ind_actividad_cliente       int64\n",
              "renta                    category\n",
              "segmento                 category\n",
              "dtype: object"
            ]
          },
          "metadata": {},
          "execution_count": 21
        }
      ]
    },
    {
      "cell_type": "code",
      "source": [
        "df_float=df.astype({\"ncodpers\":'float',\"ind_nuevo\":'float',\"antiguedad\":'float',\"indrel\":'float',\"tipodom\":'float',\"ind_actividad_cliente\":'float'})"
      ],
      "metadata": {
        "id": "Ede72IFzZUSh"
      },
      "execution_count": 22,
      "outputs": []
    },
    {
      "cell_type": "code",
      "source": [
        "df_float.dtypes"
      ],
      "metadata": {
        "colab": {
          "base_uri": "https://localhost:8080/"
        },
        "id": "fLWMGygWanpI",
        "outputId": "1c5bfae6-5f18-434c-8096-6c1a2e876458"
      },
      "execution_count": 23,
      "outputs": [
        {
          "output_type": "execute_result",
          "data": {
            "text/plain": [
              "fecha_dato                object\n",
              "ncodpers                 float64\n",
              "ind_empleado              object\n",
              "pais_residencia           object\n",
              "sexo                      object\n",
              "age                        int64\n",
              "fecha_alta                object\n",
              "ind_nuevo                float64\n",
              "antiguedad               float64\n",
              "indrel                   float64\n",
              "ult_fec_cli_1t            object\n",
              "indrel_1mes              float64\n",
              "tiprel_1mes               object\n",
              "indresi                   object\n",
              "indext                    object\n",
              "conyuemp                  object\n",
              "canal_entrada             object\n",
              "indfall                   object\n",
              "tipodom                  float64\n",
              "cod_prov                 float64\n",
              "nomprov                   object\n",
              "ind_actividad_cliente    float64\n",
              "renta                     object\n",
              "segmento                  object\n",
              "dtype: object"
            ]
          },
          "metadata": {},
          "execution_count": 23
        }
      ]
    },
    {
      "cell_type": "code",
      "source": [
        "df.value_counts"
      ],
      "metadata": {
        "colab": {
          "base_uri": "https://localhost:8080/"
        },
        "id": "spt6IGX0aq30",
        "outputId": "7b6b630c-5326-436a-8460-5bc38e570528"
      },
      "execution_count": 24,
      "outputs": [
        {
          "output_type": "execute_result",
          "data": {
            "text/plain": [
              "<bound method DataFrame.value_counts of         fecha_dato  ncodpers ind_empleado pais_residencia sexo  age  \\\n",
              "0       28-06-2016     15889            F              ES    V   56   \n",
              "1       28-06-2016   1170544            N              ES    H   36   \n",
              "2       28-06-2016   1170545            N              ES    V   22   \n",
              "3       28-06-2016   1170547            N              ES    H   22   \n",
              "4       28-06-2016   1170548            N              ES    H   22   \n",
              "...            ...       ...          ...             ...  ...  ...   \n",
              "929610  28-06-2016    660237            N              ES    V   55   \n",
              "929611  28-06-2016    660238            N              ES    V   30   \n",
              "929612  28-06-2016    660240            N              ES    V   52   \n",
              "929613  28-06-2016    660243            N              ES    V   32   \n",
              "929614  28-06-2016    660248            N              ES    V   92   \n",
              "\n",
              "        fecha_alta  ind_nuevo  antiguedad  indrel  ... indext  conyuemp  \\\n",
              "0       16-01-1995          0         256       1  ...      N         N   \n",
              "1       28-08-2013          0          34       1  ...      N       NaN   \n",
              "2       28-08-2013          0          34       1  ...      N       NaN   \n",
              "3       28-08-2013          0          34       1  ...      N       NaN   \n",
              "4       28-08-2013          0          34       1  ...      N       NaN   \n",
              "...            ...        ...         ...     ...  ...    ...       ...   \n",
              "929610  21-04-1999          0         206       1  ...      N       NaN   \n",
              "929611  29-11-2006          0         115       1  ...      N       NaN   \n",
              "929612  29-11-2006          0         115       1  ...      N       NaN   \n",
              "929613  29-11-2006          0         115       1  ...      N       NaN   \n",
              "929614  29-11-2006          0         115       1  ...      N       NaN   \n",
              "\n",
              "       canal_entrada indfall tipodom cod_prov         nomprov  \\\n",
              "0                KAT       N       1     28.0          MADRID   \n",
              "1                KAT       N       1      3.0        ALICANTE   \n",
              "2                KHE       N       1     15.0       CORUÑA, A   \n",
              "3                KHE       N       1      8.0       BARCELONA   \n",
              "4                KHE       N       1      7.0  BALEARS, ILLES   \n",
              "...              ...     ...     ...      ...             ...   \n",
              "929610           KAT       N       1     28.0          MADRID   \n",
              "929611           KFC       N       1     26.0       RIOJA, LA   \n",
              "929612           KBZ       N       1     33.0        ASTURIAS   \n",
              "929613           KFC       N       1     33.0        ASTURIAS   \n",
              "929614           KAT       N       1     45.0          TOLEDO   \n",
              "\n",
              "       ind_actividad_cliente        renta            segmento  \n",
              "0                          1     326124.9            01 - TOP  \n",
              "1                          0           NA   02 - PARTICULARES  \n",
              "2                          1           NA  03 - UNIVERSITARIO  \n",
              "3                          0    148402.98  03 - UNIVERSITARIO  \n",
              "4                          0     106885.8  03 - UNIVERSITARIO  \n",
              "...                      ...          ...                 ...  \n",
              "929610                     1    128643.57            01 - TOP  \n",
              "929611                     0           NA   02 - PARTICULARES  \n",
              "929612                     1     72765.27   02 - PARTICULARES  \n",
              "929613                     0    147488.88   02 - PARTICULARES  \n",
              "929614                     0           NA   02 - PARTICULARES  \n",
              "\n",
              "[929615 rows x 24 columns]>"
            ]
          },
          "metadata": {},
          "execution_count": 24
        }
      ]
    },
    {
      "cell_type": "code",
      "source": [
        "import statistics"
      ],
      "metadata": {
        "id": "GHoHkhNFqaba"
      },
      "execution_count": 26,
      "outputs": []
    },
    {
      "cell_type": "code",
      "source": [
        "group=df.groupby('ind_nuevo')"
      ],
      "metadata": {
        "id": "bEx0QVcbqa_4"
      },
      "execution_count": 28,
      "outputs": []
    },
    {
      "cell_type": "code",
      "source": [
        "group"
      ],
      "metadata": {
        "id": "3tulBkZjqbrM",
        "colab": {
          "base_uri": "https://localhost:8080/"
        },
        "outputId": "26dff16b-3757-4811-f461-eeeddf87eb3d"
      },
      "execution_count": 29,
      "outputs": [
        {
          "output_type": "execute_result",
          "data": {
            "text/plain": [
              "<pandas.core.groupby.generic.DataFrameGroupBy object at 0x7f609dd614d0>"
            ]
          },
          "metadata": {},
          "execution_count": 29
        }
      ]
    },
    {
      "cell_type": "code",
      "source": [
        "sns.barplot(x= 'age',y= 'sexo' ,data= df_zero)\n",
        "plt.show()"
      ],
      "metadata": {
        "colab": {
          "base_uri": "https://localhost:8080/",
          "height": 279
        },
        "id": "fLlIdtMGdR5_",
        "outputId": "b2d1e32d-5724-403d-a2da-04c99c7ff31f"
      },
      "execution_count": 49,
      "outputs": [
        {
          "output_type": "display_data",
          "data": {
            "text/plain": [
              "<Figure size 432x288 with 1 Axes>"
            ],
            "image/png": "[encoded data removed]"
          },
          "metadata": {
            "needs_background": "light"
          }
        }
      ]
    },
    {
      "cell_type": "code",
      "source": [
        "sns.barplot(x= 'age', y= 'ind_nuevo',data=df_zero)\n",
        "plt.show()"
      ],
      "metadata": {
        "id": "vWQuPBDkePx7",
        "colab": {
          "base_uri": "https://localhost:8080/",
          "height": 279
        },
        "outputId": "c6524f53-b712-49dd-8168-3e079d70a1d7"
      },
      "execution_count": 51,
      "outputs": [
        {
          "output_type": "display_data",
          "data": {
            "text/plain": [
              "<Figure size 432x288 with 1 Axes>"
            ],
            "image/png": "[encoded data removed]"
          },
          "metadata": {
            "needs_background": "light"
          }
        }
      ]
    },
    {
      "cell_type": "code",
      "source": [
        ""
      ],
      "metadata": {
        "id": "obnyb24S-qgF"
      },
      "execution_count": null,
      "outputs": []
    }
  ]
}